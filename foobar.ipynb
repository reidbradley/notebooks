{
 "cells": [
  {
   "cell_type": "markdown",
   "metadata": {},
   "source": [
    "### This notebook contains miscellaneous functions from ad hoc code challenges.\n",
    "Each exercise is divvied up into a subsection with a brief description in bold."
   ]
  },
  {
   "cell_type": "markdown",
   "metadata": {},
   "source": [
    "---\n",
    "\n",
    "---\n",
    "\n",
    "---\n",
    "\n",
    "_**Convert string to**_ &#x2803;&#x2817;&#x2801;&#x280A;&#x2807;&#x2807;&#x2811; _**binary.**_"
   ]
  },
  {
   "cell_type": "code",
   "execution_count": 1,
   "metadata": {
    "collapsed": false
   },
   "outputs": [
    {
     "name": "stdout",
     "output_type": "stream",
     "text": [
      "('python version: ', sys.version_info(major=2, minor=7, micro=12, releaselevel='final', serial=0))\n"
     ]
    }
   ],
   "source": [
    "import re\n",
    "import sys\n",
    "print ('python version: ', sys.version_info)"
   ]
  },
  {
   "cell_type": "code",
   "execution_count": 2,
   "metadata": {
    "collapsed": true
   },
   "outputs": [],
   "source": [
    "def convert_to_bbinary(plaintext):\n",
    "    chr_brl_dict = {\n",
    "        ' ':'000000',\n",
    "        'a':'100000',\n",
    "        'b':'110000',\n",
    "        'c':'100100',\n",
    "        'd':'100110',\n",
    "        'e':'100010',\n",
    "        'f':'110100',\n",
    "        'g':'110110',\n",
    "        'h':'110010',\n",
    "        'i':'010100',\n",
    "        'j':'010110',\n",
    "        'k':'101000',\n",
    "        'l':'111000',\n",
    "        'm':'101100',\n",
    "        'n':'101110',\n",
    "        'o':'101010',\n",
    "        'p':'111100',\n",
    "        'q':'111110',\n",
    "        'r':'111010',\n",
    "        's':'011100',\n",
    "        't':'011110',\n",
    "        'u':'101001',\n",
    "        'v':'111001',\n",
    "        'w':'010111',\n",
    "        'x':'101101',\n",
    "        'y':'101111',\n",
    "        'z':'101011'\n",
    "    }\n",
    "\n",
    "    binary_from_words = []\n",
    "    word_list = re.split(r'(\\s+)',plaintext)\n",
    "    chars = [char for word in word_list for char in word]\n",
    "    for char in chars:\n",
    "        if char.isupper():\n",
    "            binary_from_words.append('000001')\n",
    "            char = char.lower()\n",
    "        binary_from_words.append(chr_brl_dict[char])\n",
    "\n",
    "    return (''.join(str(x) for x in binary_from_words))"
   ]
  },
  {
   "cell_type": "code",
   "execution_count": 3,
   "metadata": {
    "collapsed": false
   },
   "outputs": [
    {
     "data": {
      "text/plain": [
       "'100100101010101110111001100010111010011110000000011100011110111010010100101110110110000000011110101010000000110000000000110000010100101110100000111010101111'"
      ]
     },
     "execution_count": 3,
     "metadata": {},
     "output_type": "execute_result"
    }
   ],
   "source": [
    "convert_to_bbinary('convert string to b binary')"
   ]
  },
  {
   "cell_type": "markdown",
   "metadata": {},
   "source": [
    "---\n",
    "\n",
    "---\n",
    "\n",
    "---\n",
    "\n",
    "_**Given a list of 0-9 digits (with individual digits ranging from 0-9), return the largest number mod 3 (else return 0)**_"
   ]
  },
  {
   "cell_type": "code",
   "execution_count": 4,
   "metadata": {
    "collapsed": false
   },
   "outputs": [
    {
     "name": "stdout",
     "output_type": "stream",
     "text": [
      "('python version: ', sys.version_info(major=2, minor=7, micro=12, releaselevel='final', serial=0), '\\n')\n"
     ]
    }
   ],
   "source": [
    "#import sys\n",
    "import timeit\n",
    "import random\n",
    "import itertools\n",
    "print ('python version: ', sys.version_info, '\\n')"
   ]
  },
  {
   "cell_type": "code",
   "execution_count": 6,
   "metadata": {
    "collapsed": false
   },
   "outputs": [
    {
     "name": "stdout",
     "output_type": "stream",
     "text": [
      "4\n",
      "[0, 1, 8, 4]\n"
     ]
    }
   ],
   "source": [
    "# generate random list of numbers\n",
    "int_list = [random.randint(0,9) for v in range(random.randint(1,9))]\n",
    "print (len(int_list))\n",
    "print (int_list)"
   ]
  },
  {
   "cell_type": "code",
   "execution_count": 7,
   "metadata": {
    "collapsed": true
   },
   "outputs": [],
   "source": [
    "def largest_number_mod3(numberlist):\n",
    "    nl = sorted(numberlist, reverse=True)\n",
    "    \n",
    "    def get_combos(int_list):\n",
    "        for size in range(1, len(int_list) + 1)[::-1]:\n",
    "            for combo in itertools.combinations(int_list, size):\n",
    "                if sum(combo)%3 == 0:\n",
    "                    return list(combo)\n",
    "                else:\n",
    "                    pass\n",
    "    \n",
    "    def get_perms(combination):\n",
    "        if combination:\n",
    "            cstr = [i for i in combination]\n",
    "            for size in range(1, len(cstr) + 1)[::-1]:\n",
    "                max_perm = max(\n",
    "                    perm\n",
    "                    for perm in itertools.combinations(cstr, size)\n",
    "                    if sum(perm)%3 == 0\n",
    "                )\n",
    "                _ = int(''.join(str(_) for _ in max_perm))\n",
    "                if _%3 == 0:\n",
    "                    return _\n",
    "        else:\n",
    "            print('combination length is 0')\n",
    "            return 0\n",
    "    \n",
    "    combos = get_combos(nl)\n",
    "    perms = get_perms(combos)\n",
    "    \n",
    "    return perms"
   ]
  },
  {
   "cell_type": "code",
   "execution_count": 8,
   "metadata": {
    "collapsed": false
   },
   "outputs": [
    {
     "data": {
      "text/plain": [
       "840"
      ]
     },
     "execution_count": 8,
     "metadata": {},
     "output_type": "execute_result"
    }
   ],
   "source": [
    "largest_number_mod3(int_list)"
   ]
  },
  {
   "cell_type": "code",
   "execution_count": 10,
   "metadata": {
    "collapsed": false
   },
   "outputs": [
    {
     "data": {
      "text/plain": [
       "19.209056699562318"
      ]
     },
     "execution_count": 10,
     "metadata": {},
     "output_type": "execute_result"
    }
   ],
   "source": [
    "stmt = 'largest_number_mod3(int_list)'\n",
    "timeit.timeit(stmt, setup='from __main__ import largest_number_mod3, int_list') #runs 1,000,000 executions by default"
   ]
  }
 ],
 "metadata": {
  "anaconda-cloud": {},
  "kernelspec": {
   "display_name": "Python [conda env:python2712]",
   "language": "python",
   "name": "conda-env-python2712-py"
  },
  "language_info": {
   "codemirror_mode": {
    "name": "ipython",
    "version": 2
   },
   "file_extension": ".py",
   "mimetype": "text/x-python",
   "name": "python",
   "nbconvert_exporter": "python",
   "pygments_lexer": "ipython2",
   "version": "2.7.12"
  }
 },
 "nbformat": 4,
 "nbformat_minor": 1
}
